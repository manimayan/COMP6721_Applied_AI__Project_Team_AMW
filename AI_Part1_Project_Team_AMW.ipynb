{
  "cells": [
    {
      "cell_type": "code",
      "source": [
        "from numpy import vstack\n",
        "from sklearn.metrics import accuracy_score, precision_recall_fscore_support, confusion_matrix\n",
        "from tqdm import tqdm\n",
        "from pathlib import Path\n",
        "import pandas as pd\n",
        "from PIL import Image\n",
        "import numpy as np\n",
        "from torch import long, tensor\n",
        "from torch.utils.data.dataset import Dataset\n",
        "from torchvision.transforms import Compose, Resize, ToTensor, Normalize\n",
        "import torch\n",
        "import torch.nn.init as init\n",
        "import torch.nn as nn\n",
        "from torch import Tensor\n",
        "from torch.nn import (Conv2d, CrossEntropyLoss, Linear, MaxPool2d, ReLU,Sequential, functional)\n",
        "from pathlib import Path\n",
        "from typing import Dict, List, Union\n",
        "import pandas as pd\n",
        "import torch\n",
        "import torch.nn.init as init\n",
        "from sklearn.model_selection import train_test_split\n",
        "from sklearn.model_selection import StratifiedKFold\n",
        "from torch import Tensor\n",
        "from torch.nn import (Conv2d, CrossEntropyLoss, Linear, MaxPool2d, ReLU,Sequential)\n",
        "from torch.optim import Adam\n",
        "from torch.optim.optimizer import Optimizer\n",
        "from torch.utils.data import DataLoader\n",
        "import itertools\n",
        "import matplotlib.pyplot as plt\n"
      ],
      "metadata": {
        "colab": {
          "base_uri": "https://localhost:8080/"
        },
        "id": "spR0MQUG_3M0",
        "outputId": "96164e58-87c0-4581-a8bc-e117d233ef53"
      },
      "id": "spR0MQUG_3M0",
      "execution_count": 1,
      "outputs": [
        {
          "output_type": "stream",
          "name": "stdout",
          "text": [
            "Mounted at /content/drive/\n"
          ]
        }
      ]
    },
    {
      "cell_type": "code",
      "execution_count": null,
      "id": "5f357717",
      "metadata": {
        "id": "5f357717",
        "outputId": "1399e58f-210b-4a88-dac6-eed9145f9df9"
      },
      "outputs": [
        {
          "name": "stderr",
          "output_type": "stream",
          "text": [
            "no: 100%|██████████| 1495/1495 [00:07<00:00, 193.95it/s]\n",
            "cloth: 100%|██████████| 1493/1493 [00:08<00:00, 179.35it/s]\n",
            "FFP2: 100%|██████████| 1499/1499 [00:07<00:00, 193.34it/s]\n",
            "surgical: 100%|██████████| 1498/1498 [00:08<00:00, 181.71it/s]"
          ]
        },
        {
          "name": "stdout",
          "output_type": "stream",
          "text": [
            "Saving Dataframe to: dataset/dataset.pickle\n"
          ]
        },
        {
          "name": "stderr",
          "output_type": "stream",
          "text": [
            "\n"
          ]
        }
      ],
      "source": [
        "datasetPath = 'dataset' #path to dataset dir\n",
        "noMaskPath = datasetPath+'/no'\n",
        "clothMaskPath = datasetPath+'/cloth'\n",
        "FFP2MaskPath = datasetPath+'/FFP2'\n",
        "surgicalMaskPath = datasetPath+'/surgical'\n",
        "maskDF = pd.DataFrame()\n",
        "\n",
        "\n",
        "for img in tqdm(list(noMaskPath.iterdir()), desc='no'):\n",
        "    maskDF = maskDF.append({\n",
        "        'image': str(img),\n",
        "        'mask': 0\n",
        "    }, ignore_index=True)\n",
        "    \n",
        "for img in tqdm(list(clothMaskPath.iterdir()), desc='cloth'):\n",
        "    maskDF = maskDF.append({\n",
        "        'image': str(img),\n",
        "        'mask': 1\n",
        "    }, ignore_index=True)\n",
        "    \n",
        "for img in tqdm(list(FFP2MaskPath.iterdir()), desc='FFP2'):\n",
        "    maskDF = maskDF.append({\n",
        "        'image': str(img),\n",
        "        'mask': 2\n",
        "    }, ignore_index=True)\n",
        "    \n",
        "for img in tqdm(list(surgicalMaskPath.iterdir()), desc='surgical'):\n",
        "    maskDF = maskDF.append({\n",
        "        'image': str(img),\n",
        "        'mask': 3\n",
        "    }, ignore_index=True)\n",
        "\n",
        "\n",
        "df_name = 'dataset/dataset.pickle'\n",
        "print(f'Saving Dataframe to: {df_name}')\n",
        "maskDF.to_pickle(df_name)"
      ]
    },
    {
      "cell_type": "code",
      "execution_count": null,
      "id": "d6da12c2",
      "metadata": {
        "id": "d6da12c2"
      },
      "outputs": [],
      "source": [
        "class mask_dataset(Dataset):\n",
        "    def __init__(self, dataFrame):\n",
        "        self.dataFrame = dataFrame\n",
        "        self.transformations = Compose([\n",
        "            Resize((32, 32)),\n",
        "            ToTensor(),\n",
        "            Normalize((0.5667, 0.5198, 0.4955),(0.3082, 0.2988, 0.3053))\n",
        "        ])\n",
        "    \n",
        "    def __getitem__(self, key):\n",
        "        if isinstance(key, slice):\n",
        "            raise NotImplementedError('Slicing is supported')\n",
        "        \n",
        "        row = self.dataFrame.iloc[key]\n",
        "        image = Image.open(row['image']).convert('RGB')\n",
        "        return {\n",
        "          'image': self.transformations(image),\n",
        "          'mask': tensor([row['mask']], dtype=long),\n",
        "          'path': row['image']\n",
        "        }\n",
        "    \n",
        "    def __len__(self):\n",
        "        return len(self.dataFrame.index)"
      ]
    },
    {
      "cell_type": "code",
      "execution_count": null,
      "id": "adabf6aa",
      "metadata": {
        "id": "adabf6aa"
      },
      "outputs": [],
      "source": [
        "                     \n",
        "class face_mask_detection_CNN(nn.Module):\n",
        "    def __init__(self):\n",
        "        super(face_mask_detection_CNN, self).__init__()\n",
        "        self.conv_layer = nn.Sequential(\n",
        "            nn.Conv2d(in_channels=3, out_channels=32, kernel_size=3, padding=1),\n",
        "            nn.BatchNorm2d(32),\n",
        "            nn.LeakyReLU(inplace=True),\n",
        "            nn.Conv2d(in_channels=32, out_channels=32, kernel_size=3, padding=1),\n",
        "            nn.BatchNorm2d(32),\n",
        "            nn.LeakyReLU(inplace=True),\n",
        "            nn.MaxPool2d(kernel_size=2, stride=2),\n",
        "            nn.Conv2d(in_channels=32, out_channels=64, kernel_size=3, padding=1),\n",
        "            nn.BatchNorm2d(64),\n",
        "            nn.LeakyReLU(inplace=True),\n",
        "            nn.Conv2d(in_channels=64, out_channels=64, kernel_size=3, padding=1),\n",
        "            nn.BatchNorm2d(64),\n",
        "            nn.LeakyReLU(inplace=True),\n",
        "            nn.MaxPool2d(kernel_size=2, stride=2),\n",
        "        )\n",
        "        self.fc_layer = nn.Sequential(\n",
        "            nn.Dropout(p=0.1),\n",
        "            nn.Linear(8 * 8 * 64, 1000),\n",
        "            nn.ReLU(inplace=True),\n",
        "            nn.Linear(1000, 512),\n",
        "            nn.ReLU(inplace=True),\n",
        "            nn.Dropout(p=0.1),\n",
        "            nn.Linear(512, 4)\n",
        "        )\n",
        "    def forward(self, x):\n",
        "        x = self.conv_layer(x)\n",
        "        x = x.view(x.size(0), -1)\n",
        "        x = self.fc_layer(x)\n",
        "        return x\n",
        "\n",
        "face_mask_detector_cnn = face_mask_detection_CNN()\n",
        "print(face_mask_detector_cnn)"
      ]
    },
    {
      "cell_type": "code",
      "execution_count": null,
      "id": "3f5115b6",
      "metadata": {
        "id": "3f5115b6",
        "outputId": "8cce9992-f4db-4a82-d5b3-52bdeb05472d"
      },
      "outputs": [
        {
          "name": "stdout",
          "output_type": "stream",
          "text": [
            "2.0    1499\n",
            "3.0    1498\n",
            "0.0    1495\n",
            "1.0    1493\n",
            "Name: mask, dtype: int64\n"
          ]
        }
      ],
      "source": [
        "def conf_mat(cm, classes, normalize=False, title='Visualization of the confusion matrix', cmap=plt.cm.Reds):\n",
        "    plt.imshow(cm, interpolation='nearest', cmap=cmap)\n",
        "    plt.title(title)\n",
        "    plt.colorbar()\n",
        "    tick_marks = np.arange(len(classes))\n",
        "    plt.xticks(tick_marks, classes, rotation=45)\n",
        "    plt.yticks(tick_marks, classes)\n",
        "\n",
        "    if normalize:\n",
        "        cm = cm.astype('float') / cm.sum(axis=1)[:, np.newaxis]\n",
        "        print(\"Normalized confusion matrix\")\n",
        "    else:\n",
        "        print('Confusion matrix without normalization')\n",
        "\n",
        "    print(cm)\n",
        "\n",
        "    thresh = cm.max() / 2.\n",
        "    for i, j in itertools.product(range(cm.shape[0]), range(cm.shape[1])):\n",
        "        plt.text(j, i, cm[i, j], horizontalalignment=\"center\", color=\"white\" if cm[i, j] > thresh else \"black\")\n",
        "    \n",
        "    plt.tight_layout()\n",
        "    plt.ylabel('Actual True label')\n",
        "    plt.xlabel('Predicted label')\n",
        "\n",
        "def prepare_data(mask_df_path) -> None:\n",
        "        mask_df = pd.read_pickle(mask_df_path)\n",
        "        print(mask_df['mask'].value_counts())\n",
        "        skf = StratifiedKFold(n_splits=10, shuffle=True)\n",
        "        train_folds = []\n",
        "        val_fold = []\n",
        "        for train_index, validate_index in skf.split(mask_df, mask_df['mask']):\n",
        "            train_folds.append(mask_dataset(mask_df.iloc[train_index]))\n",
        "            val_fold.append(mask_dataset(mask_df.iloc[validate_index]))\n",
        "        return [\n",
        "            train_folds, val_fold,CrossEntropyLoss()\n",
        "            ]\n",
        "\n",
        "def train_dataloader(train_df) -> DataLoader:\n",
        "    return DataLoader(train_df, batch_size=32, shuffle=True, num_workers=0)\n",
        "\n",
        "def val_dataloader(validate_df) -> DataLoader:\n",
        "    return DataLoader(validate_df, batch_size=32, num_workers=0)   \n",
        "\n",
        "train_dfs, validate_dfs, cross_entropy_loss = prepare_data(\"dataset/dataset.pickle\")"
      ]
    },
    {
      "cell_type": "code",
      "execution_count": null,
      "id": "bcdc5bae",
      "metadata": {
        "id": "bcdc5bae"
      },
      "outputs": [],
      "source": [
        "epochs = 10\n",
        "lr = 0.001 \n",
        "retrain = False\n",
        "\n",
        "import warnings\n",
        "warnings.filterwarnings('ignore')\n",
        "\n",
        "def training(train_fold):\n",
        "    acc_list = []\n",
        "    loss_list = []\n",
        "    optimizer = Adam(face_mask_detector_cnn.parameters(), lr=lr)\n",
        "    for epoch in range(epochs):\n",
        "        total=0\n",
        "        correct=0\n",
        "        loss_train = 0.0\n",
        "        for i, data in enumerate(train_dataloader(train_fold), 0):\n",
        "            inputs, labels = data['image'], data['mask']\n",
        "            labels = labels.flatten()\n",
        "            outputs = face_mask_detector_cnn(inputs)\n",
        "            loss = cross_entropy_loss(outputs, labels)\n",
        "            loss_list.append(loss.item())\n",
        "            optimizer.zero_grad() \n",
        "            loss.backward()\n",
        "            optimizer.step()\n",
        "            #training accuracy\n",
        "            total += labels.size(0)\n",
        "            _, predicted = torch.max(outputs.data, 1) \n",
        "            correct += (predicted == labels).sum().item() \n",
        "            loss_train += loss\n",
        "        print('Training Loss after epoch {} : {} Accuracy: {:.2f}%'.format(epoch, loss_train,(correct / total) * 100))"
      ]
    },
    {
      "cell_type": "code",
      "execution_count": null,
      "id": "04484a50",
      "metadata": {
        "id": "04484a50"
      },
      "outputs": [],
      "source": [
        "\n",
        "def evaluation(valid_f):\n",
        "    predictions, actuals = torch.tensor([]), torch.tensor([])\n",
        "    for i, data in enumerate(val_dataloader(valid_f)):\n",
        "        inputs, targets = data['image'], data['mask']\n",
        "        targets = targets.flatten()\n",
        "        output = face_mask_detector_cnn(inputs)\n",
        "        output = torch.argmax(output,axis=1)\n",
        "        predictions = torch.cat((predictions, output.flatten()), dim=0)\n",
        "        actuals = torch.cat((actuals, targets), dim=0)\n",
        "\n",
        "    return (confusion_matrix(actuals.numpy(), predictions.numpy()),accuracy_score(actuals, predictions),*precision_recall_fscore_support(actuals.numpy(), predictions.numpy(),average='macro'))"
      ]
    },
    {
      "cell_type": "code",
      "execution_count": null,
      "id": "ea42497b",
      "metadata": {
        "id": "ea42497b"
      },
      "outputs": [],
      "source": [
        "fold_results = []\n",
        "fold_confusion_matrix = np.zeros((4,4))\n",
        "classes = ['without_mask', 'cloth_mask', 'ffp2_mask', 'surgical_mask']\n",
        "\n",
        "for index in range(len(train_dfs)):\n",
        "    print(\"Running Fold : \"+ str(index+1))\n",
        "    training(train_dfs[index])\n",
        "    fold_result = evaluation(validate_dfs[index])\n",
        "    fold_results.append(fold_result[1:-1])\n",
        "    fold_confusion_matrix = np.add(fold_confusion_matrix,fold_result[0])\n",
        "    if index != len(train_dfs)-1:\n",
        "        face_mask_detector_cnn = face_mask_detection_CNN()\n",
        "#printing the metrics (accuracy,precision,recall,f-scores )and confusion matrix\n",
        "metrics_df = pd.DataFrame(fold_results, columns=['accuracy', 'precision', 'recall', 'f-score'])\n",
        "print()\n",
        "print(\"Metrics\")\n",
        "print(metrics_df.mean())\n",
        "print()\n",
        "print(\"Across 10-folds\")\n",
        "conf_mat(fold_confusion_matrix, classes)"
      ]
    },
    {
      "cell_type": "code",
      "execution_count": null,
      "id": "d8dba63f",
      "metadata": {
        "id": "d8dba63f"
      },
      "outputs": [],
      "source": [
        "torch.save(face_mask_detector_cnn, 'face_mask_detection_CNN.pkl')"
      ]
    },
    {
      "cell_type": "code",
      "execution_count": null,
      "id": "645a5b66",
      "metadata": {
        "id": "645a5b66",
        "outputId": "b38dadac-9cf2-4c9d-fd58-ffb9fc937a58"
      },
      "outputs": [
        {
          "name": "stderr",
          "output_type": "stream",
          "text": [
            "no: 100%|██████████| 103/103 [00:00<00:00, 537.89it/s]\n",
            "cloth: 100%|██████████| 103/103 [00:00<00:00, 526.87it/s]\n",
            "ffp2: 100%|██████████| 103/103 [00:00<00:00, 546.34it/s]\n",
            "surgical: 100%|██████████| 103/103 [00:00<00:00, 532.26it/s]\n"
          ]
        },
        {
          "name": "stdout",
          "output_type": "stream",
          "text": [
            "testDataset\\random\\no_mask (62).jpg\n",
            "Predicted: without_mask\n"
          ]
        },
        {
          "data": {
            "image/png": "[encoded data removed]",
            "text/plain": [
              "<Figure size 432x288 with 1 Axes>"
            ]
          },
          "metadata": {
            "needs_background": "light"
          },
          "output_type": "display_data"
        }
      ],
      "source": [
        "#to predict new images\n",
        "from tqdm import tqdm\n",
        "import matplotlib.pyplot as plt\n",
        "import random\n",
        "\n",
        "class_mapping = {\n",
        "    0: \"without_mask\",\n",
        "    1: \"cloth_mask\",\n",
        "    2: \"ffp2_mask\",\n",
        "    3: \"surgical_mask\"\n",
        "}\n",
        "\n",
        "def prepare_predict_df():\n",
        "    testDatasetPath = 'testDataset' #path to new test data. (not used in training, developement and validation) \n",
        "    testDF = pd.DataFrame()\n",
        "\n",
        "    for img in tqdm(list(testDatasetPath.iterdir()), desc='no'):\n",
        "        testDF = testDF.append({\n",
        "            'image': str(img),\n",
        "            'mask': 0\n",
        "        }, ignore_index=True)\n",
        "\n",
        "    for img in tqdm(list(testDatasetPath.iterdir()), desc='cloth'):\n",
        "        testDF = testDF.append({\n",
        "            'image': str(img),\n",
        "            'mask': 1\n",
        "        }, ignore_index=True)\n",
        "\n",
        "    for img in tqdm(list(testDatasetPath.iterdir()), desc='ffp2'):\n",
        "        testDF = testDF.append({\n",
        "            'image': str(img),\n",
        "            'mask': 2\n",
        "        }, ignore_index=True)\n",
        "        \n",
        "    for img in tqdm(list(testDatasetPath.iterdir()), desc='surgical'):\n",
        "        testDF = testDF.append({\n",
        "            'image': str(img),\n",
        "            'mask': 3\n",
        "        }, ignore_index=True)\n",
        "\n",
        "    return mask_dataset(testDF)\n",
        "\n",
        "def predict():\n",
        "    test_df = prepare_predict_df()\n",
        "    rand_sampler = torch.utils.data.RandomSampler(test_df, num_samples=32, replacement=True)\n",
        "    data = iter(DataLoader(test_df, batch_size=32, num_workers=0, sampler=rand_sampler)).next()\n",
        "    inputs,targets = data['image'], data['mask']\n",
        "    output = face_mask_detector_cnn(inputs)\n",
        "    output = torch.argmax(output,axis=1)\n",
        "    rand_ind = random.choice(list(range(0,32)))\n",
        "    print(data['path'][rand_ind])\n",
        "    img = Image.open(data['path'][rand_ind])\n",
        "    plt.imshow(np.asarray(img))\n",
        "    print(\"Predicted:\",class_mapping[output[rand_ind].tolist()])\n",
        "\n",
        "predict()"
      ]
    }
  ],
  "metadata": {
    "kernelspec": {
      "display_name": "Python 3",
      "language": "python",
      "name": "python3"
    },
    "language_info": {
      "codemirror_mode": {
        "name": "ipython",
        "version": 3
      },
      "file_extension": ".py",
      "mimetype": "text/x-python",
      "name": "python",
      "nbconvert_exporter": "python",
      "pygments_lexer": "ipython3",
      "version": "3.6.13"
    },
    "colab": {
      "name": "FinalMasksCNN.ipynb",
      "provenance": [],
      "collapsed_sections": []
    }
  },
  "nbformat": 4,
  "nbformat_minor": 5
}